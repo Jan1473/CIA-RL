{
 "cells": [
  {
   "cell_type": "code",
   "execution_count": 1,
   "metadata": {},
   "outputs": [
    {
     "name": "stdout",
     "output_type": "stream",
     "text": [
      "True Engagement Rates for Movies: [0.84158406 0.42403806 0.59145165 0.19289109 0.19929931 0.38544966\n",
      " 0.06423425 0.29916287 0.90534737 0.28666259]\n",
      "\n",
      "Recommendation Statistics:\n",
      "Movie 0: Average Reward = 0.87, Counts = 158\n",
      "Movie 1: Average Reward = 0.43, Counts = 7\n",
      "Movie 2: Average Reward = 0.46, Counts = 13\n",
      "Movie 3: Average Reward = 0.08, Counts = 12\n",
      "Movie 4: Average Reward = 0.10, Counts = 10\n",
      "Movie 5: Average Reward = 0.50, Counts = 8\n",
      "Movie 6: Average Reward = 0.50, Counts = 4\n",
      "Movie 7: Average Reward = 0.40, Counts = 5\n",
      "Movie 8: Average Reward = 0.91, Counts = 772\n",
      "Movie 9: Average Reward = 0.18, Counts = 11\n"
     ]
    }
   ],
   "source": [
    "import numpy as np\n",
    "import random\n",
    "\n",
    "class MovieRecommenderKArmBandit:\n",
    "    def __init__(self, num_movies, epsilon=0.1):\n",
    "        self.num_movies = num_movies  # Total number of movies (arms)\n",
    "        self.epsilon = epsilon        # Exploration rate\n",
    "        self.movie_rewards = np.zeros(num_movies)  # Sum of rewards per movie\n",
    "        self.movie_counts = np.zeros(num_movies)   # Count of selections per movie\n",
    "\n",
    "    def recommend_movie(self):\n",
    "        # Epsilon-greedy strategy\n",
    "        if random.random() < self.epsilon:\n",
    "            # Explore: Select a random movie\n",
    "            movie_id = random.randint(0, self.num_movies - 1)\n",
    "        else:\n",
    "            # Exploit: Select movie with highest average reward\n",
    "            average_rewards = self.movie_rewards / (self.movie_counts + 1e-5)  # Avoid division by zero\n",
    "            movie_id = np.argmax(average_rewards)\n",
    "        return movie_id\n",
    "\n",
    "    def update_feedback(self, movie_id, reward):\n",
    "        # Update reward sum and count for the selected movie\n",
    "        self.movie_rewards[movie_id] += reward\n",
    "        self.movie_counts[movie_id] += 1\n",
    "\n",
    "    def print_recommendation_stats(self):\n",
    "        # Print average reward for each movie\n",
    "        average_rewards = self.movie_rewards / (self.movie_counts + 1e-5)\n",
    "        for i in range(self.num_movies):\n",
    "            print(f\"Movie {i}: Average Reward = {average_rewards[i]:.2f}, Counts = {int(self.movie_counts[i])}\")\n",
    "\n",
    "# Simulate a recommendation environment\n",
    "def simulate_movie_recommendation(recommender, num_rounds=1000):\n",
    "    # Define a true probability of engagement for each movie (ground truth for the simulation)\n",
    "    true_engagement_rates = np.random.rand(recommender.num_movies)\n",
    "    print(\"True Engagement Rates for Movies:\", true_engagement_rates)\n",
    "\n",
    "    for _ in range(num_rounds):\n",
    "        recommended_movie = recommender.recommend_movie()\n",
    "        \n",
    "        # Simulate user feedback based on true engagement rates\n",
    "        reward = 1 if random.random() < true_engagement_rates[recommended_movie] else 0\n",
    "        \n",
    "        # Update the bandit with the observed reward\n",
    "        recommender.update_feedback(recommended_movie, reward)\n",
    "\n",
    "# Define the number of movies\n",
    "num_movies = 10  \n",
    "\n",
    "# Initialize the recommender system\n",
    "recommender = MovieRecommenderKArmBandit(num_movies, epsilon=0.1)\n",
    "\n",
    "# Run the simulation\n",
    "simulate_movie_recommendation(recommender, num_rounds=1000)\n",
    "\n",
    "# Print recommendation stats\n",
    "print(\"\\nRecommendation Statistics:\")\n",
    "recommender.print_recommendation_stats()\n"
   ]
  },
  {
   "cell_type": "code",
   "execution_count": null,
   "metadata": {},
   "outputs": [],
   "source": []
  }
 ],
 "metadata": {
  "kernelspec": {
   "display_name": "sp",
   "language": "python",
   "name": "python3"
  },
  "language_info": {
   "codemirror_mode": {
    "name": "ipython",
    "version": 3
   },
   "file_extension": ".py",
   "mimetype": "text/x-python",
   "name": "python",
   "nbconvert_exporter": "python",
   "pygments_lexer": "ipython3",
   "version": "3.12.3"
  }
 },
 "nbformat": 4,
 "nbformat_minor": 2
}
